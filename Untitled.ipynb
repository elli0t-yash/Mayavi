{
 "cells": [
  {
   "cell_type": "code",
   "execution_count": 1,
   "id": "f854bb9b",
   "metadata": {},
   "outputs": [],
   "source": [
    "import numpy as np\n",
    "from mayavi import mlab"
   ]
  },
  {
   "cell_type": "code",
   "execution_count": 3,
   "id": "efad0735",
   "metadata": {},
   "outputs": [],
   "source": [
    "x, y = np.mgrid[-5:5:100j, -5:5:100j]\n",
    "z = np.sin(x**2 + y**2) / (x**2 + y**2)"
   ]
  },
  {
   "cell_type": "code",
   "execution_count": 4,
   "id": "b3156629",
   "metadata": {},
   "outputs": [
    {
     "name": "stdout",
     "output_type": "stream",
     "text": [
      "[[-0.0052475  -0.01946367 -0.01626976 ... -0.01626976 -0.01946367\n",
      "  -0.0052475 ]\n",
      " [-0.01946367 -0.01600796  0.00219041 ...  0.00219041 -0.01600796\n",
      "  -0.01946367]\n",
      " [-0.01626976  0.00219041  0.01918309 ...  0.01918309  0.00219041\n",
      "  -0.01626976]\n",
      " ...\n",
      " [-0.01626976  0.00219041  0.01918309 ...  0.01918309  0.00219041\n",
      "  -0.01626976]\n",
      " [-0.01946367 -0.01600796  0.00219041 ...  0.00219041 -0.01600796\n",
      "  -0.01946367]\n",
      " [-0.0052475  -0.01946367 -0.01626976 ... -0.01626976 -0.01946367\n",
      "  -0.0052475 ]]\n"
     ]
    }
   ],
   "source": [
    "print(z)"
   ]
  },
  {
   "cell_type": "code",
   "execution_count": 5,
   "id": "37092d06",
   "metadata": {},
   "outputs": [
    {
     "data": {
      "text/plain": [
       "<mayavi.core.scene.Scene at 0x13ad87b7bf0>"
      ]
     },
     "execution_count": 5,
     "metadata": {},
     "output_type": "execute_result"
    }
   ],
   "source": [
    "mlab.figure()"
   ]
  },
  {
   "cell_type": "code",
   "execution_count": 6,
   "id": "96add97e",
   "metadata": {},
   "outputs": [],
   "source": [
    "surf = mlab.surf(x, y, z, colormap = 'hot')"
   ]
  },
  {
   "cell_type": "code",
   "execution_count": 7,
   "id": "7afb6c15",
   "metadata": {},
   "outputs": [
    {
     "data": {
      "text/plain": [
       "<mayavi.core.lut_manager.LUTManager at 0x13ad8b97b50>"
      ]
     },
     "execution_count": 7,
     "metadata": {},
     "output_type": "execute_result"
    }
   ],
   "source": [
    "mlab.colorbar(surf)"
   ]
  },
  {
   "cell_type": "code",
   "execution_count": 8,
   "id": "da7a7db7",
   "metadata": {},
   "outputs": [],
   "source": [
    "mlab.show()"
   ]
  },
  {
   "cell_type": "code",
   "execution_count": null,
   "id": "69ae7af0",
   "metadata": {},
   "outputs": [],
   "source": []
  }
 ],
 "metadata": {
  "kernelspec": {
   "display_name": "Python 3 (ipykernel)",
   "language": "python",
   "name": "python3"
  },
  "language_info": {
   "codemirror_mode": {
    "name": "ipython",
    "version": 3
   },
   "file_extension": ".py",
   "mimetype": "text/x-python",
   "name": "python",
   "nbconvert_exporter": "python",
   "pygments_lexer": "ipython3",
   "version": "3.10.10"
  }
 },
 "nbformat": 4,
 "nbformat_minor": 5
}
